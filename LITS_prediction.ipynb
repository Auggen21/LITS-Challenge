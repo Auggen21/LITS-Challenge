{
  "nbformat": 4,
  "nbformat_minor": 0,
  "metadata": {
    "colab": {
      "name": "LITS_prediction.ipynb",
      "provenance": []
    },
    "kernelspec": {
      "name": "python3",
      "display_name": "Python 3"
    }
  },
  "cells": [
    {
      "cell_type": "code",
      "metadata": {
        "id": "nZ84PAyvMPrm",
        "colab_type": "code",
        "outputId": "5b1ffdbf-510f-4422-9e73-cc5a6b403a93",
        "colab": {
          "base_uri": "https://localhost:8080/",
          "height": 125
        }
      },
      "source": [
        "from google.colab import drive\n",
        "drive.mount('/content/drive')"
      ],
      "execution_count": 0,
      "outputs": [
        {
          "output_type": "stream",
          "text": [
            "Go to this URL in a browser: https://accounts.google.com/o/oauth2/auth?client_id=947318989803-6bn6qk8qdgf4n4g3pfee6491hc0brc4i.apps.googleusercontent.com&redirect_uri=urn%3aietf%3awg%3aoauth%3a2.0%3aoob&response_type=code&scope=email%20https%3a%2f%2fwww.googleapis.com%2fauth%2fdocs.test%20https%3a%2f%2fwww.googleapis.com%2fauth%2fdrive%20https%3a%2f%2fwww.googleapis.com%2fauth%2fdrive.photos.readonly%20https%3a%2f%2fwww.googleapis.com%2fauth%2fpeopleapi.readonly\n",
            "\n",
            "Enter your authorization code:\n",
            "··········\n",
            "Mounted at /content/drive\n"
          ],
          "name": "stdout"
        }
      ]
    },
    {
      "cell_type": "code",
      "metadata": {
        "id": "dQbRQxu3L2OX",
        "colab_type": "code",
        "outputId": "ca87b26e-81be-426e-b0dd-9f9a352c8958",
        "colab": {
          "base_uri": "https://localhost:8080/",
          "height": 52
        }
      },
      "source": [
        "from keras.models import model_from_json\n",
        "json_file = open('/content/drive/My Drive/LITS/model_json.json', 'r')\n",
        "loaded_model_json = json_file.read()\n",
        "json_file.close()\n",
        "loaded_model = model_from_json(loaded_model_json)\n",
        "# load weights into new model\n",
        "loaded_model.load_weights(\"/content/drive/My Drive/LITS/model_weights.h5\")\n",
        "print(\"Loaded model from disk\")"
      ],
      "execution_count": 0,
      "outputs": [
        {
          "output_type": "stream",
          "text": [
            "Using TensorFlow backend.\n"
          ],
          "name": "stderr"
        },
        {
          "output_type": "stream",
          "text": [
            "Loaded model from disk\n"
          ],
          "name": "stdout"
        }
      ]
    },
    {
      "cell_type": "code",
      "metadata": {
        "id": "HfEfnH_0MH9E",
        "colab_type": "code",
        "outputId": "4ac348da-1ec0-41b8-c64d-d09990b623b3",
        "colab": {
          "base_uri": "https://localhost:8080/",
          "height": 125
        }
      },
      "source": [
        "import nibabel as nib\n",
        "img_path='/content/drive/My Drive/LITS/Dataset/volume-23.nii'\n",
        "img_ex = nib.load(img_path).get_data()\n",
        "#mask_ex = nib.load(mask_path[25]).get_data()"
      ],
      "execution_count": 0,
      "outputs": [
        {
          "output_type": "stream",
          "text": [
            "/usr/local/lib/python3.6/dist-packages/ipykernel_launcher.py:3: DeprecationWarning: get_data() is deprecated in favor of get_fdata(), which has a more predictable return type. To obtain get_data() behavior going forward, use numpy.asanyarray(img.dataobj).\n",
            "\n",
            "* deprecated from version: 3.0\n",
            "* Will raise <class 'nibabel.deprecator.ExpiredDeprecationError'> as of version: 5.0\n",
            "  This is separate from the ipykernel package so we can avoid doing imports until\n"
          ],
          "name": "stderr"
        }
      ]
    },
    {
      "cell_type": "code",
      "metadata": {
        "id": "MQ3OOLYLOs6Y",
        "colab_type": "code",
        "colab": {}
      },
      "source": [
        "patch_ratio = []\n",
        "\n",
        "for i in range(16 + 1):\n",
        "  patch_ratio.append(32 * i)"
      ],
      "execution_count": 0,
      "outputs": []
    },
    {
      "cell_type": "code",
      "metadata": {
        "id": "clyy-_wdOWQS",
        "colab_type": "code",
        "colab": {}
      },
      "source": [
        "def slice_to_patch(slice, patch_ratio):\n",
        "  \n",
        "  slice[slice == 1] = 0\n",
        "  slice[slice == 2] = 1\n",
        "  \n",
        "  patch_list = []\n",
        "  \n",
        "  for x_bin in range(2, len(patch_ratio)):\n",
        "    for y_bin in range(2, len(patch_ratio)):\n",
        "      patch = slice[patch_ratio[x_bin-2] : patch_ratio[x_bin], patch_ratio[y_bin - 2] : patch_ratio[y_bin]]\n",
        "      patch = patch.reshape(patch.shape + (1,))\n",
        "      patch_list.append(patch)\n",
        "  \n",
        "  return np.array(patch_list)"
      ],
      "execution_count": 0,
      "outputs": []
    },
    {
      "cell_type": "code",
      "metadata": {
        "id": "TBpXvgG8O1_5",
        "colab_type": "code",
        "colab": {}
      },
      "source": [
        "def patch_to_slice(patch, patch_ratio, input_shape, conf_threshold):\n",
        "  \n",
        "  slice = np.zeros((512, 512, 1))\n",
        "  row_idx = 0\n",
        "  col_idx = 0\n",
        "  \n",
        "  for i in range(len(patch)):\n",
        "    \n",
        "    slice[patch_ratio[row_idx]:patch_ratio[row_idx + 2], patch_ratio[col_idx]:patch_ratio[col_idx + 2]][patch[i] > conf_threshold] = 1\n",
        "    \n",
        "    col_idx += 1\n",
        "    \n",
        "    if i != 0 and (i+1) % 15 == 0:\n",
        "      row_idx += 1\n",
        "      col_idx = 0\n",
        "  \n",
        "  return slice"
      ],
      "execution_count": 0,
      "outputs": []
    },
    {
      "cell_type": "code",
      "metadata": {
        "id": "YYNgx7FoMJ1Q",
        "colab_type": "code",
        "colab": {}
      },
      "source": [
        "import numpy as np\n",
        "import matplotlib.pyplot as plt\n",
        "input_shape = [64, 64, 1]\n",
        "\n",
        "for i in range(img_ex.shape[2]):  \n",
        "        \n",
        "      patch_ex = slice_to_patch(img_ex[:, :, i], patch_ratio)\n",
        "      prediction = loaded_model.predict(patch_ex)\n",
        "      prediction_mask = patch_to_slice(prediction, patch_ratio, input_shape, conf_threshold = 0.97)\n",
        "      \n",
        "      fig, (ax1,ax3) = plt.subplots(1, 2, figsize = ((15, 15)))\n",
        "      \n",
        "      ax1.imshow(np.rot90(img_ex[:, :, i], 3), cmap = 'bone')\n",
        "      ax1.set_title(\"Image\", fontsize = \"x-large\")\n",
        "      ax1.grid(False)\n",
        "  \n",
        "      ax3.imshow(np.rot90(prediction_mask.reshape((512, 512)), 3), cmap = 'bone')\n",
        "      ax3.set_title(\"Mask (Pred)\", fontsize = \"x-large\")\n",
        "      ax3.grid(False)\n",
        "      plt.show()"
      ],
      "execution_count": 0,
      "outputs": []
    },
    {
      "cell_type": "code",
      "metadata": {
        "id": "p9FBaNTjaOI7",
        "colab_type": "code",
        "colab": {}
      },
      "source": [
        ""
      ],
      "execution_count": 0,
      "outputs": []
    }
  ]
}